{
  "nbformat": 4,
  "nbformat_minor": 0,
  "metadata": {
    "kernelspec": {
      "display_name": "Python 3",
      "language": "python",
      "name": "python3"
    },
    "language_info": {
      "codemirror_mode": {
        "name": "ipython",
        "version": 3
      },
      "file_extension": ".py",
      "mimetype": "text/x-python",
      "name": "python",
      "nbconvert_exporter": "python",
      "pygments_lexer": "ipython3",
      "version": "3.7.3"
    },
    "colab": {
      "name": "Bản sao của thuc-hanh-04.ipynb",
      "provenance": [],
      "collapsed_sections": [],
      "include_colab_link": true
    }
  },
  "cells": [
    {
      "cell_type": "markdown",
      "metadata": {
        "id": "view-in-github",
        "colab_type": "text"
      },
      "source": [
        "<a href=\"https://colab.research.google.com/github/tandat-1305/Phan_Tich_Du_Lieu_python/blob/main/B%E1%BA%A3n_sao_c%E1%BB%A7a_thuc_hanh_04.ipynb\" target=\"_parent\"><img src=\"https://colab.research.google.com/assets/colab-badge.svg\" alt=\"Open In Colab\"/></a>"
      ]
    },
    {
      "cell_type": "markdown",
      "metadata": {
        "id": "IDjEN0uXZINE"
      },
      "source": [
        "THỰC HÀNH LAMBDA - APPLY\n",
        "\n",
        "1. Sử dụng bộ dữ liệu baseball.csv"
      ]
    },
    {
      "cell_type": "code",
      "metadata": {
        "id": "TVGGm3fjZINJ"
      },
      "source": [
        "import csv\n",
        "import pandas as pd\n",
        "import numpy as np\n",
        "\n",
        "baseball = pd.read_csv(\"C:\\\\Users\\\\DELL\\Documents\\PTDL\\\\baseball.csv\")\n",
        "print(baseball)\n"
      ],
      "execution_count": null,
      "outputs": []
    },
    {
      "cell_type": "markdown",
      "metadata": {
        "id": "GvRAW9w0ZINJ"
      },
      "source": [
        "2. Hãy xây dựng hàm lambda theo công thức sau: $\\frac{x + log(x)}{\\sqrt(x)}$"
      ]
    },
    {
      "cell_type": "code",
      "metadata": {
        "id": "2zSBq1P-ZINK"
      },
      "source": [
        "lambda x: (x + np.log10(x))/ (np.sqrt(x))"
      ],
      "execution_count": null,
      "outputs": []
    },
    {
      "cell_type": "markdown",
      "metadata": {
        "id": "IAxa5HsbZINK"
      },
      "source": [
        "3. Hãy thực thi hàm apply với lambda ở trên theo chiều ngang và chiều dọc đối với 1 Series do bạn chọn từ data frame ở bước 1"
      ]
    },
    {
      "cell_type": "code",
      "metadata": {
        "id": "U3ypu73lZINK"
      },
      "source": [
        "baseball2 = baseball[['id', 'g']]\n",
        "baseball1 = baseball.apply(lambda x: (x['id']+np.log10(x['id']))/(np.sqrt(x['id'])), axis=1)\n",
        "baseball1 = baseball2.apply(lambda x: (x+np.log10(x))/(np.sqrt(x)), axis=0)"
      ],
      "execution_count": null,
      "outputs": []
    },
    {
      "cell_type": "markdown",
      "metadata": {
        "id": "tlxkaZXOZINK"
      },
      "source": [
        "4. Hãy thực thi hàm apply với lambda ở trên theo chiều ngang và chiều dọc với 1 nhóm cột (hoặc có thể là toàn bộ) của data frame ở bước 1"
      ]
    },
    {
      "cell_type": "code",
      "metadata": {
        "id": "9gHDdYAkZINL"
      },
      "source": [
        "baseball2 = baseball2.apply(lambda x: ((x) + np.log10(x))/(np.sqrt(x)), axis = 1)\n",
        "baseball3 = baseball2.apply(lambda x: ((x) + np.log10(x))/(np.sqrt(x)), axis = 0)"
      ],
      "execution_count": null,
      "outputs": []
    },
    {
      "cell_type": "markdown",
      "metadata": {
        "id": "3hX_zuLPZINL"
      },
      "source": [
        "THỰC HÀNH APPLY VÀ HÀM TỰ XÂY DỰNG\n",
        "\n",
        "Trong thực tế không phải lúc nào cũng sử dụng lambda với apply, mà có thể sử dụng apply với các hàm có sẵn khác hoặc do lập trình viên tự xây dựng."
      ]
    },
    {
      "cell_type": "markdown",
      "metadata": {
        "id": "ePkgxKMBZINL"
      },
      "source": [
        "1. Hãy áp dụng nhóm hàm sum, mean, sqrt, log của thư viện numpy cho data frame ở trên theo chiều ngang và chiều dọc"
      ]
    },
    {
      "cell_type": "code",
      "metadata": {
        "id": "4a0fo1_IZINL"
      },
      "source": [
        "#Tính theo từng hàng của từng cột\n",
        "baseball4 = baseball2.apply(np.sum, axis = 1)\n",
        "baseball5 = baseball2.apply(np.mean, axis = 1)\n",
        "baseball6 = baseball2.apply(np.sqrt, axis = 1)\n",
        "baseball7 = baseball2.apply(np.log10, axis = 1)\n",
        "#Tinh theo từng cột của từng hàng\n",
        "baseball4_1 = baseball2.apply(np.sum, axis = 0)\n",
        "baseball5_1 = baseball2.apply(np.mean, axis = 0)\n",
        "baseball6_1 = baseball2.apply(np.sqrt, axis = 0)\n",
        "baseball7_1 = baseball2.apply(np.log10, axis = 0)"
      ],
      "execution_count": null,
      "outputs": []
    },
    {
      "cell_type": "markdown",
      "metadata": {
        "id": "943et9sMZINM"
      },
      "source": [
        "2. Hãy xây dựng một hàm có tên là my_function có tham số đầu vào là x. Phương pháp tính toán của hàm như sau:\n",
        " (i) Nếu x >0  thì trả về log10(x); (ii) Nếu x <= 0  thì trả về $e^{x}$"
      ]
    },
    {
      "cell_type": "code",
      "metadata": {
        "id": "MXYcy1IBZINM"
      },
      "source": [
        "x = int(input(\"Nhập x:\"))\n",
        "\n",
        "def my_function(x):\n",
        "    if x>0:\n",
        "        return(np.log10(x))\n",
        "    elif x <=0:\n",
        "        return(np.exp(x))\n",
        "\n",
        "my_function(x)"
      ],
      "execution_count": null,
      "outputs": []
    },
    {
      "cell_type": "markdown",
      "metadata": {
        "id": "o7Po8glrZINM"
      },
      "source": [
        "3. Hãy sử dụng hàm apply để gọi my_function áp dụng cho data frame ở bước 1 ở trên"
      ]
    },
    {
      "cell_type": "code",
      "metadata": {
        "id": "Ai74Nku5ZINM"
      },
      "source": [
        "baseball8 = baseball.apply(lambda x: my_function(x['hr']), axis = 1)"
      ],
      "execution_count": null,
      "outputs": []
    }
  ]
}