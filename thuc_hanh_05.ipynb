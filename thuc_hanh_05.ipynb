{
  "nbformat": 4,
  "nbformat_minor": 0,
  "metadata": {
    "kernelspec": {
      "display_name": "Python 3",
      "language": "python",
      "name": "python3"
    },
    "language_info": {
      "codemirror_mode": {
        "name": "ipython",
        "version": 3
      },
      "file_extension": ".py",
      "mimetype": "text/x-python",
      "name": "python",
      "nbconvert_exporter": "python",
      "pygments_lexer": "ipython3",
      "version": "3.7.3"
    },
    "colab": {
      "name": "thuc-hanh-05.ipynb",
      "provenance": [],
      "include_colab_link": true
    }
  },
  "cells": [
    {
      "cell_type": "markdown",
      "metadata": {
        "id": "view-in-github",
        "colab_type": "text"
      },
      "source": [
        "<a href=\"https://colab.research.google.com/github/tandat-1305/Phan_Tich_Du_Lieu_python/blob/main/thuc_hanh_05.ipynb\" target=\"_parent\"><img src=\"https://colab.research.google.com/assets/colab-badge.svg\" alt=\"Open In Colab\"/></a>"
      ]
    },
    {
      "cell_type": "markdown",
      "metadata": {
        "id": "aIfggQRicwPj"
      },
      "source": [
        "THỰC HÀNH TRỰC QUAN HÓA DỮ LIỆU NÂNG CAO"
      ]
    },
    {
      "cell_type": "markdown",
      "metadata": {
        "id": "GEP2L4QmcwPo"
      },
      "source": [
        "Trong thực tế, các chiều dữ liệu có thể được trực quan hóa từng đối một với nhau. Trong Python, những hình vẽ dạng này được gọi là paired plots. \n",
        "\n",
        "Hãy sử dụng tài liệu tham khảo dưới đây để áp dụng vẽ paired plots cho tập dữ liệu microbiome.csv và baseball.csv\n",
        "\n",
        "Lưu ý có giải thích code trong phần markdown tương ứng\n",
        "\n",
        "Link: https://seaborn.pydata.org/generated/seaborn.pairplot.html"
      ]
    },
    {
      "cell_type": "code",
      "metadata": {
        "id": "SniMYfRrcwPo"
      },
      "source": [
        "import seaborn as sns\n",
        "import pandas as pd\n",
        "\n",
        "\n",
        "microbiome = pd.read_csv(\"C:\\\\Users\\\\DELL\\Documents\\PTDL\\\\microbiome.csv\")\n",
        "sns.pairplot(data = micro biome, kind = \"hist \")"
      ],
      "execution_count": null,
      "outputs": []
    },
    {
      "cell_type": "code",
      "metadata": {
        "id": "aj57uuVWcwPp"
      },
      "source": [
        "bsball = pd.read_csv(C:\\\\Users\\\\DELL\\Documents\\PTDL\\\\baseball.csv)\n",
        "sns1 = sns.pairplot(data = baseball, kind = \"hist\")"
      ],
      "execution_count": null,
      "outputs": []
    }
  ]
}